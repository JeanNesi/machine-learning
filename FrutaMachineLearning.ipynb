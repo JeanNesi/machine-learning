{
  "nbformat": 4,
  "nbformat_minor": 0,
  "metadata": {
    "colab": {
      "provenance": []
    },
    "kernelspec": {
      "name": "python3",
      "display_name": "Python 3"
    },
    "language_info": {
      "name": "python"
    }
  },
  "cells": [
    {
      "cell_type": "code",
      "execution_count": null,
      "metadata": {
        "id": "6Y21IIigw72M"
      },
      "outputs": [],
      "source": [
        "import pandas as pd\n",
        "import numpy as np\n",
        "from sklearn.model_selection import train_test_split\n",
        "from sklearn.preprocessing import OrdinalEncoder\n",
        "from keras.models import Sequential\n",
        "from keras.layers import Dense\n",
        "import matplotlib.pyplot as plt"
      ]
    },
    {
      "cell_type": "code",
      "source": [
        "# Criando um DataFrame genérico com informações sobre frutas\n",
        "dataframe = pd.DataFrame({\n",
        " 'Peso': [0.500,0.200,0.150,\n",
        "   0.600,0.650,0.075,\n",
        "   0.550,0.210,0.050,\n",
        "   0.510,0.480,0.175,\n",
        "   0.520,0.300,0.050],\n",
        " 'Tamanho': [0.3,0.6,0.1,\n",
        "    0.35,0.62,0.13,\n",
        "    0.37,0.70,0.15,\n",
        "    0.32,0.65,0.15,\n",
        "    0.38,0.50,0.12],\n",
        " 'Cor': ['Vermelha', 'Amarela', 'Roxa',\n",
        "   'Vermelha', 'Amarela', 'Roxa',\n",
        "   'Vermelha', 'Amarela', 'Roxa',\n",
        "   'Vermelha', 'Amarela', 'Roxa',\n",
        "   'Vermelha', 'Amarela', 'Roxa'],\n",
        " 'Tipo': ['Maçã', 'Banana', 'Uva',\n",
        "   'Maçã', 'Banana', 'Uva',\n",
        "   'Maçã', 'Banana', 'Uva',\n",
        "   'Maçã', 'Banana', 'Uva',\n",
        "   'Maçã', 'Banana', 'Uva']\n",
        "})"
      ],
      "metadata": {
        "id": "ocXVRjaPxyM4"
      },
      "execution_count": null,
      "outputs": []
    },
    {
      "cell_type": "code",
      "source": [
        "dataframe"
      ],
      "metadata": {
        "id": "-O0-nAeWyG8w"
      },
      "execution_count": null,
      "outputs": []
    },
    {
      "cell_type": "code",
      "source": [
        "# Modelo de conversão das variáveis categóricas\n",
        "\n",
        "encoder_cor = OrdinalEncoder()\n",
        "encoder_tipo = OrdinalEncoder()"
      ],
      "metadata": {
        "id": "ZokBdapQyx4u"
      },
      "execution_count": null,
      "outputs": []
    },
    {
      "cell_type": "code",
      "source": [
        "# Realizado a conversão\n",
        "dataframe['Cor'] = encoder_cor.fit_transform(dataframe['Cor'].values.reshape(-1,1))\n",
        "dataframe['Tipo'] = encoder_tipo.fit_transform(dataframe['Tipo'].values.reshape(-1,1))"
      ],
      "metadata": {
        "id": "GYGx1Tqzy_HN"
      },
      "execution_count": null,
      "outputs": []
    },
    {
      "cell_type": "code",
      "source": [
        "dataframe"
      ],
      "metadata": {
        "id": "Fu5JjQqXzgN-"
      },
      "execution_count": null,
      "outputs": []
    },
    {
      "cell_type": "code",
      "source": [
        "# Dividindo os dados em x (input) e y (output)\n",
        "x = dataframe.drop('Tipo', axis=1)\n",
        "y = dataframe['Tipo']"
      ],
      "metadata": {
        "id": "3zQzDjFXz3wU"
      },
      "execution_count": null,
      "outputs": []
    },
    {
      "cell_type": "code",
      "source": [
        "x"
      ],
      "metadata": {
        "id": "jcrVrKOB0JW9"
      },
      "execution_count": null,
      "outputs": []
    },
    {
      "cell_type": "code",
      "source": [
        "y"
      ],
      "metadata": {
        "id": "rf8HOdSy0Nf9"
      },
      "execution_count": null,
      "outputs": []
    },
    {
      "cell_type": "code",
      "source": [
        "# Separando os dados em treino e teste\n",
        "x_train, x_test, y_train, y_test = train_test_split(x,\n",
        "                                                    y,\n",
        "                                                    test_size=0.3,\n",
        "                                                    random_state=42)"
      ],
      "metadata": {
        "id": "729yQldi0X4t"
      },
      "execution_count": null,
      "outputs": []
    },
    {
      "cell_type": "code",
      "source": [
        "x_train"
      ],
      "metadata": {
        "id": "993NOgtu020H"
      },
      "execution_count": null,
      "outputs": []
    },
    {
      "cell_type": "code",
      "source": [
        "y_train"
      ],
      "metadata": {
        "id": "r06twvwO4YHA"
      },
      "execution_count": null,
      "outputs": []
    },
    {
      "cell_type": "code",
      "source": [
        "x_test"
      ],
      "metadata": {
        "id": "G-qs2ZVq4bLw"
      },
      "execution_count": null,
      "outputs": []
    },
    {
      "cell_type": "code",
      "source": [
        "y_test"
      ],
      "metadata": {
        "id": "7k36IV0e4dA6"
      },
      "execution_count": null,
      "outputs": []
    },
    {
      "cell_type": "code",
      "source": [
        "# Criando a rede neural\n",
        "model = Sequential()\n",
        "model.add(Dense(8, input_dim=3, activation='relu'))\n",
        "model.add(Dense(5, activation='relu'))\n",
        "model.add(Dense(3, activation='softmax')) # 3 classes: Maçã, Banana, Uva"
      ],
      "metadata": {
        "id": "ZpAVcsit4fUK"
      },
      "execution_count": null,
      "outputs": []
    },
    {
      "cell_type": "code",
      "source": [
        "# Compilando o modelo\n",
        "model.compile(loss='sparse_categorical_crossentropy',\n",
        "              optimizer='adam',\n",
        "              metrics=['accuracy'])"
      ],
      "metadata": {
        "id": "uoMAGvUk49Hk"
      },
      "execution_count": null,
      "outputs": []
    },
    {
      "cell_type": "code",
      "source": [
        "# Treinando a rede neural\n",
        "history = model.fit(x_train, y_train,\n",
        "                    epochs=200, batch_size= 2,\n",
        "                    verbose=1,\n",
        "                    validation_data=(x_test, y_test))"
      ],
      "metadata": {
        "id": "Cc57bd1i5ODO"
      },
      "execution_count": null,
      "outputs": []
    },
    {
      "cell_type": "code",
      "source": [
        "# Plotando o histórico de perda (loss)\n",
        "plt.figure(figsize=(12,6))\n",
        "plt.subplot(1,2,1)\n",
        "plt.plot(history.history['loss'], label='Training Loss')\n",
        "plt.plot(history.history['val_loss'], label='Validation Loss')\n",
        "plt.title('Histórico de Loss')\n",
        "plt.xlabel('Épocas')\n",
        "plt.ylabel('Loss')\n",
        "plt.legend()\n",
        "\n",
        "# Plotando o histórico de acurácia\n",
        "plt.subplot(1,2,2)\n",
        "plt.plot(history.history['accuracy'], label='Training Accuracy')\n",
        "plt.plot(history.history['val_accuracy'], label='Validation Accuracy')\n",
        "plt.title('Histórico de Acurácia')\n",
        "plt.xlabel('Épocas')\n",
        "plt.ylabel('Accuracy')\n",
        "plt.legend()\n",
        "\n",
        "plt.tight_layout()\n",
        "plt.show()"
      ],
      "metadata": {
        "id": "sTBfvjg86A7t"
      },
      "execution_count": null,
      "outputs": []
    },
    {
      "cell_type": "code",
      "source": [
        "# Avaliando a rede neural\n",
        "accuracy = model.evaluate(x_test, y_test)[1]\n",
        "print(f'Acurácia do modelo: {accuracy * 100:.2f}%')"
      ],
      "metadata": {
        "id": "mh4Yz7X17oaG"
      },
      "execution_count": null,
      "outputs": []
    },
    {
      "cell_type": "code",
      "source": [
        "peso = float(input('Digite o peso: '))\n",
        "tamanho = float(input('Digite o tamanho: '))\n",
        "cor = float(input('Digite a cor: '))\n",
        "\n",
        "print(peso, tamanho, cor)\n",
        "\n",
        "exemplo_fruta = [[peso,tamanho,cor]]"
      ],
      "metadata": {
        "id": "DZOIZwF-76p8"
      },
      "execution_count": null,
      "outputs": []
    },
    {
      "cell_type": "code",
      "source": [
        "# Realizando uma predição\n",
        "resultado = model.predict(exemplo_fruta)"
      ],
      "metadata": {
        "id": "qB-paHgX7_RE"
      },
      "execution_count": null,
      "outputs": []
    },
    {
      "cell_type": "code",
      "source": [
        "resultado"
      ],
      "metadata": {
        "colab": {
          "base_uri": "https://localhost:8080/"
        },
        "id": "69VXzr7K8HFM",
        "outputId": "08aae832-0641-4781-b70f-e34426a8c46f"
      },
      "execution_count": null,
      "outputs": [
        {
          "output_type": "execute_result",
          "data": {
            "text/plain": [
              "array([[0.0051585 , 0.9885839 , 0.00625761]], dtype=float32)"
            ]
          },
          "metadata": {},
          "execution_count": 37
        }
      ]
    },
    {
      "cell_type": "code",
      "source": [
        "resultado_convertido = np.argmax(resultado, axis=1)"
      ],
      "metadata": {
        "id": "LUQfXOKD9_yf"
      },
      "execution_count": null,
      "outputs": []
    },
    {
      "cell_type": "code",
      "source": [
        "resultado_convertido"
      ],
      "metadata": {
        "colab": {
          "base_uri": "https://localhost:8080/"
        },
        "id": "vZdhq4Qw-FTX",
        "outputId": "476f0c01-67f8-4244-ecef-2842858075e5"
      },
      "execution_count": null,
      "outputs": [
        {
          "output_type": "execute_result",
          "data": {
            "text/plain": [
              "array([1])"
            ]
          },
          "metadata": {},
          "execution_count": 39
        }
      ]
    },
    {
      "cell_type": "code",
      "source": [
        "encoder_tipo.inverse_transform(resultado_convertido.reshape(-1,1))"
      ],
      "metadata": {
        "colab": {
          "base_uri": "https://localhost:8080/"
        },
        "id": "J-S-ulrj-H-w",
        "outputId": "9f4d5476-28bf-49c2-8b42-9e02104ae937"
      },
      "execution_count": null,
      "outputs": [
        {
          "output_type": "execute_result",
          "data": {
            "text/plain": [
              "array([['Maçã']], dtype=object)"
            ]
          },
          "metadata": {},
          "execution_count": 40
        }
      ]
    }
  ]
}